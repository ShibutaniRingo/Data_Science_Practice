{
 "cells": [
  {
   "cell_type": "markdown",
   "metadata": {},
   "source": [
    "<h1><font color=#1661AB>Raw Regression</font color=#1661AB></h1>"
   ]
  },
  {
   "cell_type": "markdown",
   "metadata": {},
   "source": [
    "Data Source: [\"Kaggle: CDC Data: Nutrition, Physical Activity, & Obesity\"](https://www.kaggle.com/spittman1248/cdc-data-nutrition-physical-activity-obesity/version/1)"
   ]
  },
  {
   "cell_type": "code",
   "execution_count": 1,
   "metadata": {},
   "outputs": [],
   "source": [
    "import numpy as np\n",
    "import pandas as pd\n",
    "import scipy\n",
    "from scipy import optimize"
   ]
  },
  {
   "cell_type": "code",
   "execution_count": 2,
   "metadata": {},
   "outputs": [],
   "source": [
    "data = pd.read_csv(\"Data_Source_for_Regression_cleaned.csv\", header=0)"
   ]
  },
  {
   "cell_type": "markdown",
   "metadata": {},
   "source": [
    "<h2><font color=#1661AB>Basic Idea</font color=#1661AB></h2>\n",
    "<p>Create a simple linear regression for each class."
   ]
  },
  {
   "cell_type": "markdown",
   "metadata": {},
   "source": [
    " - Dependent Variable: Data_value\n",
    "     - need to be bucketed\n",
    " - Independent Variable: Age(years), LocationID\n",
    "     - need to be categorized"
   ]
  },
  {
   "cell_type": "markdown",
   "metadata": {},
   "source": [
    "<h3><font color=#1661AB>Create Bucket for Data Value</font color=#1661AB></h3>"
   ]
  },
  {
   "cell_type": "code",
   "execution_count": 3,
   "metadata": {},
   "outputs": [],
   "source": [
    "def CreateDummy(column):\n",
    "    result = []\n",
    "    for item in column:\n",
    "        if item == \"18 - 24\":\n",
    "            result. append(1)\n",
    "        elif item == \"25 - 34\":\n",
    "            result. append(2)\n",
    "        elif item == \"35 - 44\":\n",
    "            result. append(3)\n",
    "        elif item == \"45 - 54\":\n",
    "            result. append(4)\n",
    "        elif item == \"55 - 64\":\n",
    "            result. append(5)\n",
    "        else:\n",
    "            result.append(0)\n",
    "    return pd.Series(result)"
   ]
  },
  {
   "cell_type": "code",
   "execution_count": 4,
   "metadata": {},
   "outputs": [],
   "source": [
    "data[\"Age(Category)\"] = CreateDummy(data[\"Age(years)\"])"
   ]
  },
  {
   "cell_type": "code",
   "execution_count": 5,
   "metadata": {},
   "outputs": [],
   "source": [
    "def CreateBucket(column):\n",
    "    result = []\n",
    "    for item in column:\n",
    "        if item < 10:\n",
    "            result. append(1)\n",
    "        elif item >= 10 and item <20:\n",
    "            result. append(2)\n",
    "        elif item >= 20 and item <30:\n",
    "            result. append(3)\n",
    "        elif item >= 30 and item <40:\n",
    "            result. append(4)\n",
    "        else:\n",
    "            result.append(0)\n",
    "    return pd.Series(result)"
   ]
  },
  {
   "cell_type": "code",
   "execution_count": 6,
   "metadata": {},
   "outputs": [],
   "source": [
    "data[\"Value_Bucket\"] = CreateBucket(data[\"Data_Value\"])"
   ]
  },
  {
   "cell_type": "code",
   "execution_count": 7,
   "metadata": {},
   "outputs": [],
   "source": [
    "Subset_1 = data[data[\"Class\"]==\"Obesity / Weight Status\"]\n",
    "Subset_2 = data[data[\"Class\"]==\"Fruits and Vegetables\"]\n",
    "Subset_3 = data[data[\"Class\"]==\"Physical Activity\"]"
   ]
  },
  {
   "cell_type": "markdown",
   "metadata": {},
   "source": [
    "<h2><font color=#1661AB>Regression Pipeline</font color=#1661AB></h2>\n",
    "<ol>\n",
    "<li>Linear Regression\n",
    "    <p> <strong>Basic Formula: min [yi - (b0+bi*xi) ] ^ 2</strong>\n",
    "    <p> Data_Value ~ Age(Category) + LocationID\n",
    "<li>Multinominal Logistic Regression\n",
    "    <p> <strong>Basic Formula(Sigmoid Function): P(y=k) = exp(bk*xk) / 1+ sigma(exp(bi*x)) </strong>\n",
    "    <p> Value_Bucket ~ Age(Category) + LocationID\n",
    "</ol>"
   ]
  },
  {
   "cell_type": "markdown",
   "metadata": {},
   "source": [
    "<h3><font color=#1661AB>Linear Regression</font color=#1661AB></h3>"
   ]
  },
  {
   "cell_type": "markdown",
   "metadata": {},
   "source": [
    "1. Loss Function(MSE):"
   ]
  },
  {
   "cell_type": "code",
   "execution_count": 8,
   "metadata": {},
   "outputs": [],
   "source": [
    "def MSE(b):\n",
    "    x0 = np.array(data[\"Age(Category)\"])\n",
    "    x1 = np.array(data[\"LocationID\"])\n",
    "    y =  np.array(data[\"Data_Value\"])\n",
    "    pred =b[0] + b[1]*x0 + b[2]*x1\n",
    "    mse = sum(list(map(lambda x: x**2, y - pred)))\n",
    "    return mse"
   ]
  },
  {
   "cell_type": "code",
   "execution_count": 9,
   "metadata": {},
   "outputs": [
    {
     "data": {
      "text/plain": [
       "array([ 3.03986988e+01,  2.58429474e-01, -1.28407725e-03])"
      ]
     },
     "execution_count": 9,
     "metadata": {},
     "output_type": "execute_result"
    }
   ],
   "source": [
    "result = scipy.optimize.minimize(MSE, [1,1,1])\n",
    "result.x"
   ]
  },
  {
   "cell_type": "markdown",
   "metadata": {},
   "source": [
    "The model for the whole dataset is y = 30.3986 + 0.258Age(Category) - 0.001284LocationID"
   ]
  },
  {
   "cell_type": "markdown",
   "metadata": {},
   "source": [
    "<h4><font color=#1661AB>Subset result and Visualization</h4>"
   ]
  },
  {
   "cell_type": "code",
   "execution_count": 10,
   "metadata": {},
   "outputs": [],
   "source": [
    "def MSE_1(b):\n",
    "    x0 = np.array(Subset_1[\"Age(Category)\"])\n",
    "    x1 = np.array(Subset_1[\"LocationID\"])\n",
    "    y =  np.array(Subset_1[\"Data_Value\"])\n",
    "    pred =b[0] + b[1]*x0 + b[2]*x1\n",
    "    mse = sum(list(map(lambda x: x**2, y - pred)))\n",
    "    return mse\n",
    "\n",
    "def MSE_2(b):\n",
    "    x0 = np.array(Subset_2[\"Age(Category)\"])\n",
    "    x1 = np.array(Subset_2[\"LocationID\"])\n",
    "    y =  np.array(Subset_2[\"Data_Value\"])\n",
    "    pred =b[0] + b[1]*x0 + b[2]*x1\n",
    "    mse = sum(list(map(lambda x: x**2, y - pred)))\n",
    "    return mse\n",
    "\n",
    "def MSE_3(b):\n",
    "    x0 = np.array(Subset_3[\"Age(Category)\"])\n",
    "    x1 = np.array(Subset_3[\"LocationID\"])\n",
    "    y =  np.array(Subset_3[\"Data_Value\"])\n",
    "    pred =b[0] + b[1]*x0 + b[2]*x1\n",
    "    mse = sum(list(map(lambda x: x**2, y - pred)))\n",
    "    return mse\n",
    "\n",
    "result_1 = scipy.optimize.minimize(MSE_1, [1,1,1])\n",
    "result_2 = scipy.optimize.minimize(MSE_2, [1,1,1])\n",
    "result_3 = scipy.optimize.minimize(MSE_3, [1,1,1])"
   ]
  },
  {
   "cell_type": "code",
   "execution_count": 11,
   "metadata": {},
   "outputs": [
    {
     "data": {
      "image/png": "[encoded data removed]",
      "text/plain": [
       "<Figure size 576x576 with 1 Axes>"
      ]
     },
     "metadata": {},
     "output_type": "display_data"
    },
    {
     "data": {
      "image/png": "[encoded data removed]",
      "text/plain": [
       "<Figure size 576x576 with 1 Axes>"
      ]
     },
     "metadata": {},
     "output_type": "display_data"
    }
   ],
   "source": [
    "import matplotlib.pyplot as plt \n",
    "%matplotlib inline\n",
    "Agefactor = [result_1.x[1], result_2.x[1], result_3.x[1]]\n",
    "Locationfactor = [result_1.x[2], result_2.x[2], result_3.x[2]]\n",
    "\n",
    "\n",
    "plt.figure(figsize=(8, 8))\n",
    "plt.title(\"Age Factor Inportance in Each Group\",{'fontsize': 20})\n",
    "plt.bar([\"Obesity / Weight Status\",\"Fruits and Vegetables\",\"Physical Activity\"],Agefactor)\n",
    "\n",
    "plt.figure(figsize=(8, 8))\n",
    "plt.title(\"Location Factor Inportance in Each Group\",{'fontsize': 20})\n",
    "plt.bar([\"Obesity / Weight Status\",\"Fruits and Vegetables\",\"Physical Activity\"],Locationfactor)\n",
    "\n",
    "\n",
    "plt.show()\n"
   ]
  },
  {
   "cell_type": "code",
   "execution_count": null,
   "metadata": {},
   "outputs": [],
   "source": []
  }
 ],
 "metadata": {
  "kernelspec": {
   "display_name": "Python 3",
   "language": "python",
   "name": "python3"
  },
  "language_info": {
   "codemirror_mode": {
    "name": "ipython",
    "version": 3
   },
   "file_extension": ".py",
   "mimetype": "text/x-python",
   "name": "python",
   "nbconvert_exporter": "python",
   "pygments_lexer": "ipython3",
   "version": "3.6.8"
  }
 },
 "nbformat": 4,
 "nbformat_minor": 2
}
