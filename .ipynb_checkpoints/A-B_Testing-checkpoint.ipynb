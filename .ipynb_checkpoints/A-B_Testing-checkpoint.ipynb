{
 "cells": [
  {
   "cell_type": "markdown",
   "metadata": {},
   "source": [
    "<h1>A/B Testing</h1>\n",
    "<p>A/B test is the shorthand for a simple controlled experiment.</p>\n",
    "<p>A/B tests consist of a randomized experiment with two versions (A and B) of a single variable are compared, which are identical except for one variation that might affect a user's behavior. Version A might be the currently used version (control), while version B is modified in some respect (treatment).</p>\n",
    "<p>A/B test can give you broad quantitative data, 它的本质并不是简单比较metric的变化，而是evaluate feature impact in the long run.</p>\n",
    "<p>A/B test不能：</p>\n",
    "<ul>\n",
    "<li>不能用来测试全新版本：novalty effect(新奇效应)，改变必须是可以比较的某一个/几个feature\n",
    "<li>不能用来检查缺少了什么东西\n",
    "<li>需要用户opt in的feature不可以用A/B testing：不能随机划分实验组和对照组\n",
    "<li>很难收集用户反馈/收集用户反馈成本很大，但A/B testing必须要在短期内完成\n",
    "</ul>"
   ]
  },
  {
   "cell_type": "markdown",
   "metadata": {},
   "source": [
    "<h2>Complimentory: Qualitative Data</h2>\n",
    "<ol>\n",
    "    <li>Use User log information(user events data) to do a <strong>prospective analysis</strong> to develop a hypothesis.\n",
    "    <li>User Experience Research\n",
    "    <li>Focus Group: a small, but demographically diverse group of people and whose reactions are studied especially in market research or political analysis in guided or open discussions about a new product or something else to determine the reactions that can be expected from a larger population.\n",
    "        <p>  </p>\n",
    "    <p>Questions are asked in an interactive group setting where participants are free to talk with other group members. During this process, the researcher either takes notes or records the vital points he or she is getting from the group. Researchers should select members of the focus group carefully for effective and authoritative responses.</p>\n",
    "    <li>Human Evaluation\n",
    "</ol>"
   ]
  },
  {
   "cell_type": "markdown",
   "metadata": {},
   "source": [
    "<h2>Framework</h2>\n",
    "<ol>\n",
    "    <li>Diagnostic problem: 确定当前最关键的改进点\n",
    "    <li>Design experiment: 哪些人进实验组/对照组？\n",
    "    <li>Design Metrics: 不同阶段的不同指标/不同business模型的不同指标\n",
    "    <li>Review Statistics: Use statistical methods for hypothesis test.   \n",
    "</ol>"
   ]
  },
  {
   "cell_type": "markdown",
   "metadata": {},
   "source": [
    "<h3>1. Gathering Data and Sampling</h3>\n",
    "<ul>\n",
    "    <li>Sample Size\n",
    "        <ul>\n",
    "        <li>数据量在100-10000时，总体的30%\n",
    "        <li>if you have k features to test, basic sample size: $n>=3(k+1)$\n",
    "        <li>其他影响因素：研究对象的变化程度，精度要求，置信区间，决策重要性(importance)，调研性质\n",
    "           <p><strong>Formula</strong>: Error $E = z_{\\frac{\\alpha}{2}} * (\\frac{\\sigma}{n})$</p>\n",
    "           <p><strong>$n = (\\frac{z_{\\frac{\\alpha}{2}}*\\sigma}{E})^2$</strong></p>\n",
    "           </ul>\n",
    "    <li>Consistant response from Control Group and Experiment Group: to observe whether there's significant difference.\n",
    "    <li>Robust and repeatable result: 结果可以复现\n",
    "    </ul>"
   ]
  },
  {
   "cell_type": "markdown",
   "metadata": {},
   "source": [
    "<h3>2. Design Experiment</h3>\n",
    "<ul>\n",
    "    <li>Observe Userflow: Customer Funnel，观察用户行为提出假设\n",
    "    <li>Choosing Metrics: Refine the Hypothesis with an quantitative metric.\n",
    "        <ul>\n",
    "        <li>必须可以在短期内被观察到\n",
    "        <li>使用“比率”消除不同group总数差的影响：\n",
    "            <ul>\n",
    "            <li>eg. click-through rate(CTR): number of clicks / number of page views\n",
    "            <li>eg. click-through probablity: number of unique user clicks / number of unique users\n",
    "            </ul>\n",
    "    <li>Power has inverse relationship with size: the smaller the change(confidence interval), the larger the sample size need to be.\n",
    "    </ul>"
   ]
  },
  {
   "cell_type": "markdown",
   "metadata": {},
   "source": [
    "<h3>4. Review Statistics</h3>\n",
    "<ul>\n",
    "    <li>Design Hypothesis Test: 决定使用哪种分布，双边还是单边\n",
    "        <ul>\n",
    "        <li>结果为二元，iid：Binominal Distribution (mean:p, var:p(1-p)/n)\n",
    "        <li>样本数够大($N*p>5$ and $N*(1-p)>5$)：Normal Distribution：Central Limit Rule\n",
    "        </ul>\n",
    "    <li>Confidence Interval: $\\hat{\\theta} ± (z_{\\frac{\\alpha}{2}}*\\sigma)$\n",
    "    <li>H0(Null Hypothesis) and H1(Alternative Hypothesis) :通常认为实验组与对照组相同为null hypothesis.\n",
    "        <ul>\n",
    "        <li>计算p-value:H0为真的概率。如果p足够小（p小于$\\alpha$）：拒绝原假设，新feature有效。\n",
    "        <li>误差分析\n",
    "            <ul>\n",
    "            <li>$\\alpha = P(reject H_0 | H_0 True)$\n",
    "            <li>$\\beta = P(accept H_0 | H_0 False)$\n",
    "            <li>sensitivity: 1-$\\beta$ (often 80%)\n",
    "            </ul>\n",
    "            <p>Small sample: alpha is low but beta is high.</p>\n",
    "            <p>Large sample: alpha is same but beta is lower.</p>\n",
    "        </ul>\n",
    "    </ul>"
   ]
  },
  {
   "cell_type": "markdown",
   "metadata": {},
   "source": [
    "<h4>4.1 Pool Standard Error 合并标准误差</h4>\n",
    "<ol>\n",
    "    <li>pool mean $p_{pool}$：$\\frac{X_{cont}+X_{exp}}{N_{cont}+N_{exp}}$\n",
    "    <li>pool std err  $\\sigma_{pool}$: $\\sqrt{p_{pool}*(1-p_{pool})*(\\frac{1}{N_{cont}}+\\frac{1}{N_{exp}})}$\n",
    "    <li>d(practical significance) = Control Mean - Experiment Mean, d服从正态分布N(0, $\\sigma_{pool}^2$）\n",
    "    <li>如果d绝对值够大，认为实验组与对照组有显著差异\n",
    "        <ul>\n",
    "        <li>Practically significant: Minimum Detectable Effect\n",
    "        <li>Statistically significant: 可复现性(Repeatable)\n",
    "        </ul>\n",
    "    <p><strong>Statistically significance bar is suppose to be lower than the practically significance bar.</strong></p>\n",
    "</ol>"
   ]
  },
  {
   "cell_type": "code",
   "execution_count": null,
   "metadata": {},
   "outputs": [],
   "source": []
  }
 ],
 "metadata": {
  "kernelspec": {
   "display_name": "Python 3",
   "language": "python",
   "name": "python3"
  },
  "language_info": {
   "codemirror_mode": {
    "name": "ipython",
    "version": 3
   },
   "file_extension": ".py",
   "mimetype": "text/x-python",
   "name": "python",
   "nbconvert_exporter": "python",
   "pygments_lexer": "ipython3",
   "version": "3.6.8"
  }
 },
 "nbformat": 4,
 "nbformat_minor": 2
}
